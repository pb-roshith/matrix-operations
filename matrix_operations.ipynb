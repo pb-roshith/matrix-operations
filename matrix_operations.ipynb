{
  "nbformat": 4,
  "nbformat_minor": 0,
  "metadata": {
    "colab": {
      "provenance": [],
      "authorship_tag": "ABX9TyN9o0CQP9VeDKakpOAP4ML5",
      "include_colab_link": true
    },
    "kernelspec": {
      "name": "python3",
      "display_name": "Python 3"
    },
    "language_info": {
      "name": "python"
    }
  },
  "cells": [
    {
      "cell_type": "markdown",
      "metadata": {
        "id": "view-in-github",
        "colab_type": "text"
      },
      "source": [
        "<a href=\"https://colab.research.google.com/github/pb-roshith/matrix-operations/blob/main/matrix_operations.ipynb\" target=\"_parent\"><img src=\"https://colab.research.google.com/assets/colab-badge.svg\" alt=\"Open In Colab\"/></a>"
      ]
    },
    {
      "cell_type": "code",
      "execution_count": 1,
      "metadata": {
        "id": "Y0G2x86d9Twn"
      },
      "outputs": [],
      "source": [
        "import numpy as np"
      ]
    },
    {
      "cell_type": "code",
      "source": [
        "m1 = np.array([[2,3], [6,7]])\n",
        "print(m1)"
      ],
      "metadata": {
        "colab": {
          "base_uri": "https://localhost:8080/"
        },
        "id": "qPTHolSkAnH4",
        "outputId": "988ba53a-a050-45ee-cd1e-652f7913840a"
      },
      "execution_count": 2,
      "outputs": [
        {
          "output_type": "stream",
          "name": "stdout",
          "text": [
            "[[2 3]\n",
            " [6 7]]\n"
          ]
        }
      ]
    },
    {
      "cell_type": "code",
      "source": [
        "m1.shape"
      ],
      "metadata": {
        "colab": {
          "base_uri": "https://localhost:8080/"
        },
        "id": "NbgHmgnPFaD1",
        "outputId": "beb9e088-5a6b-45b8-f78c-eabe02879980"
      },
      "execution_count": 3,
      "outputs": [
        {
          "output_type": "execute_result",
          "data": {
            "text/plain": [
              "(2, 2)"
            ]
          },
          "metadata": {},
          "execution_count": 3
        }
      ]
    },
    {
      "cell_type": "code",
      "source": [
        "m2 = np.array([[10,13], [63,72], [23,66]])\n",
        "print(m2)"
      ],
      "metadata": {
        "colab": {
          "base_uri": "https://localhost:8080/"
        },
        "id": "KU_WUfHBFdrR",
        "outputId": "56cf8dcf-4e97-4dba-94c7-a292984c945c"
      },
      "execution_count": 4,
      "outputs": [
        {
          "output_type": "stream",
          "name": "stdout",
          "text": [
            "[[10 13]\n",
            " [63 72]\n",
            " [23 66]]\n"
          ]
        }
      ]
    },
    {
      "cell_type": "code",
      "source": [
        "m2.shape"
      ],
      "metadata": {
        "colab": {
          "base_uri": "https://localhost:8080/"
        },
        "id": "UN1xyWPDF0n_",
        "outputId": "cbce73bd-bef8-4372-a70e-d8c37474d8ca"
      },
      "execution_count": 6,
      "outputs": [
        {
          "output_type": "execute_result",
          "data": {
            "text/plain": [
              "(3, 2)"
            ]
          },
          "metadata": {},
          "execution_count": 6
        }
      ]
    },
    {
      "cell_type": "code",
      "source": [
        "ran = np.random.rand(3,4)\n",
        "print(ran)"
      ],
      "metadata": {
        "colab": {
          "base_uri": "https://localhost:8080/"
        },
        "id": "IJI_5HWiF_FT",
        "outputId": "7224d68a-ce92-4e56-fa54-ff90b03f2d32"
      },
      "execution_count": 14,
      "outputs": [
        {
          "output_type": "stream",
          "name": "stdout",
          "text": [
            "[[0.77203756 0.34418853 0.39945547 0.22070019]\n",
            " [0.64863642 0.53078084 0.88105297 0.94198671]\n",
            " [0.05744786 0.08502773 0.14325718 0.40137727]]\n"
          ]
        }
      ]
    },
    {
      "cell_type": "code",
      "source": [
        "ran2 = np.random.randint(100, size=(3,6))\n",
        "print(ran2)"
      ],
      "metadata": {
        "colab": {
          "base_uri": "https://localhost:8080/"
        },
        "id": "dEavdFyQIjMy",
        "outputId": "fd691d61-aca8-40aa-e89a-aa7a9fbab08e"
      },
      "execution_count": 15,
      "outputs": [
        {
          "output_type": "stream",
          "name": "stdout",
          "text": [
            "[[51 20 70  7 82 96]\n",
            " [46 11 79 20 22 64]\n",
            " [ 4  1 86 22 61 84]]\n"
          ]
        }
      ]
    },
    {
      "cell_type": "code",
      "source": [
        "m3 = np.ones((2,5))\n",
        "print(m3)"
      ],
      "metadata": {
        "colab": {
          "base_uri": "https://localhost:8080/"
        },
        "id": "hjjNhfdLJD5m",
        "outputId": "7d36cc77-35c3-4c69-cfe4-1197c1055d6f"
      },
      "execution_count": 17,
      "outputs": [
        {
          "output_type": "stream",
          "name": "stdout",
          "text": [
            "[[1. 1. 1. 1. 1.]\n",
            " [1. 1. 1. 1. 1.]]\n"
          ]
        }
      ]
    },
    {
      "cell_type": "code",
      "source": [
        "m4 = np.ones((5,5), dtype=int)\n",
        "print(m4)"
      ],
      "metadata": {
        "colab": {
          "base_uri": "https://localhost:8080/"
        },
        "id": "BP0jXyAhJM--",
        "outputId": "b0313913-5ba6-4553-b00b-38f814fe2171"
      },
      "execution_count": 19,
      "outputs": [
        {
          "output_type": "stream",
          "name": "stdout",
          "text": [
            "[[1 1 1 1 1]\n",
            " [1 1 1 1 1]\n",
            " [1 1 1 1 1]\n",
            " [1 1 1 1 1]\n",
            " [1 1 1 1 1]]\n"
          ]
        }
      ]
    },
    {
      "cell_type": "code",
      "source": [
        "nul = np.zeros((4,4))\n",
        "print(nul)"
      ],
      "metadata": {
        "colab": {
          "base_uri": "https://localhost:8080/"
        },
        "id": "uPcL5x8rJjEb",
        "outputId": "a764cba7-5f88-42d4-f274-e6cdca26d388"
      },
      "execution_count": 20,
      "outputs": [
        {
          "output_type": "stream",
          "name": "stdout",
          "text": [
            "[[0. 0. 0. 0.]\n",
            " [0. 0. 0. 0.]\n",
            " [0. 0. 0. 0.]\n",
            " [0. 0. 0. 0.]]\n"
          ]
        }
      ]
    },
    {
      "cell_type": "code",
      "source": [
        "ide = np.eye(5,5)\n",
        "print(ide)"
      ],
      "metadata": {
        "colab": {
          "base_uri": "https://localhost:8080/"
        },
        "id": "Srqa5iy7J4vt",
        "outputId": "191980b1-8d48-40ea-d641-9f95c0330d61"
      },
      "execution_count": 27,
      "outputs": [
        {
          "output_type": "stream",
          "name": "stdout",
          "text": [
            "[[1. 0. 0. 0. 0.]\n",
            " [0. 1. 0. 0. 0.]\n",
            " [0. 0. 1. 0. 0.]\n",
            " [0. 0. 0. 1. 0.]\n",
            " [0. 0. 0. 0. 1.]]\n"
          ]
        }
      ]
    },
    {
      "cell_type": "code",
      "source": [
        "mr = np.random.randint(200, size=(4,4))\n",
        "t = np.transpose(mr)\n",
        "print(mr)\n",
        "print(t)"
      ],
      "metadata": {
        "colab": {
          "base_uri": "https://localhost:8080/"
        },
        "id": "hHdir5CjKAAv",
        "outputId": "06231e2d-815f-47f3-8252-81135e265da4"
      },
      "execution_count": 32,
      "outputs": [
        {
          "output_type": "stream",
          "name": "stdout",
          "text": [
            "[[136 175  77 172]\n",
            " [ 75  32 192 193]\n",
            " [114  73  48 172]\n",
            " [165  58 191 171]]\n",
            "[[136  75 114 165]\n",
            " [175  32  73  58]\n",
            " [ 77 192  48 191]\n",
            " [172 193 172 171]]\n"
          ]
        }
      ]
    },
    {
      "cell_type": "code",
      "source": [
        "mr1 = np.random.randint(200, size=(4,4))\n",
        "mr2 = np.random.randint(200, size=(4,4))\n",
        "add1 = np.add(mr1, mr2)\n",
        "sub1 = np.subtract(mr1, mr2)\n",
        "mul1 = np.multiply(mr1, mr2)\n",
        "div1 = np.divide(mr1, mr2)\n",
        "print(mr1)\n",
        "print(mr2)"
      ],
      "metadata": {
        "colab": {
          "base_uri": "https://localhost:8080/"
        },
        "id": "0z_j7PRDMRPT",
        "outputId": "19cd93ce-f982-4287-a98d-bddaf271523b"
      },
      "execution_count": 39,
      "outputs": [
        {
          "output_type": "stream",
          "name": "stdout",
          "text": [
            "[[188 113 109 192]\n",
            " [169  74 171  78]\n",
            " [131 156 118 198]\n",
            " [136  47  29 116]]\n",
            "[[ 71 151  63 196]\n",
            " [107 133 141 127]\n",
            " [156  51 187 175]\n",
            " [122   5  71 160]]\n"
          ]
        }
      ]
    },
    {
      "cell_type": "code",
      "source": [
        "print(add1)\n",
        "print(sub1)\n",
        "print(mul1)\n",
        "print(div1)\n",
        "print(2*mr1)"
      ],
      "metadata": {
        "colab": {
          "base_uri": "https://localhost:8080/"
        },
        "id": "yqLlQHTlRSOu",
        "outputId": "dd4a994a-4c1b-4f6f-b452-e759c5ee43e5"
      },
      "execution_count": 44,
      "outputs": [
        {
          "output_type": "stream",
          "name": "stdout",
          "text": [
            "[[259 264 172 388]\n",
            " [276 207 312 205]\n",
            " [287 207 305 373]\n",
            " [258  52 100 276]]\n",
            "[[117 -38  46  -4]\n",
            " [ 62 -59  30 -49]\n",
            " [-25 105 -69  23]\n",
            " [ 14  42 -42 -44]]\n",
            "[[13348 17063  6867 37632]\n",
            " [18083  9842 24111  9906]\n",
            " [20436  7956 22066 34650]\n",
            " [16592   235  2059 18560]]\n",
            "[[2.64788732 0.74834437 1.73015873 0.97959184]\n",
            " [1.57943925 0.55639098 1.21276596 0.61417323]\n",
            " [0.83974359 3.05882353 0.63101604 1.13142857]\n",
            " [1.1147541  9.4        0.4084507  0.725     ]]\n",
            "[[376 226 218 384]\n",
            " [338 148 342 156]\n",
            " [262 312 236 396]\n",
            " [272  94  58 232]]\n"
          ]
        }
      ]
    }
  ]
}